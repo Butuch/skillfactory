{
 "cells": [
  {
   "cell_type": "code",
   "execution_count": 268,
   "metadata": {},
   "outputs": [
    {
     "name": "stdout",
     "output_type": "stream",
     "text": [
      "Ваш алгоритм угадывает число в среднем за 4 попытки\n"
     ]
    }
   ],
   "source": [
    "import math\n",
    "import random\n",
    "import numpy as np\n",
    "\n",
    "def predict(random_number):\n",
    "    '''функция считает кол-во попыток угадывания случайного числа в заданом диапозоне'''\n",
    "    #диапозон, в котором находится искомое число\n",
    "    min_number = 1\n",
    "    max_number = 100\n",
    "    #random_number = random.randint(min_number,max_number) #случайное число в ранее заданном диапозоне\n",
    "    predict = 0 #предпологаемое число\n",
    "    counter = 0 #счетчик попыток\n",
    "    step = math.ceil((max_number+min_number) / 2) #шаг деления, который делит массив для искомого числа пополам\n",
    "    while True:\n",
    "        if predict == random_number:\n",
    "            #если предпологаемое число равно загаданному числу - выход из цикла\n",
    "            return counter #возвращаем счётчик попыток\n",
    "        else:\n",
    "            if random_number < step:\n",
    "                '''если загаданное находится в первой половине массива,\n",
    "                    то уменьшаем максимально возможное чилсло массив до шага деления диапозона пополам'''\n",
    "                max_number = step #максимальное число становится шагом деления\n",
    "                predict = step - 1 #предпологаемое число становится шагом деления минус 1\n",
    "                step = math.ceil((max_number+min_number) / 2) #новый шаг деления массива пополам\n",
    "                counter += 1\n",
    "            else:\n",
    "                '''если загаданное находится в первой половине массива,\n",
    "                    то уменьшаем максимально возможное чилсло массив до шага деления диапозона пополам'''\n",
    "                min_number = step #минимальное число становится шагом деления\n",
    "                predict = step #предпологаемое число становится шагом деления\n",
    "                step = math.ceil((max_number+min_number) / 2) #новый шаг деления массива пополам\n",
    "                counter += 1\n",
    "\n",
    "\n",
    "def ending(number):\n",
    "    #выявления окончание для слова \"попытка\"\n",
    "    if number % 10 in (2, 3, 4) and number not in (11, 12, 13, 14):\n",
    "        end = 'ки'\n",
    "    elif number % 10 == 1 and number != 11:\n",
    "        end = 'ку'\n",
    "    else:\n",
    "        end = 'ок'\n",
    "    return end\n",
    "                \n",
    "                \n",
    "def score_game(game_core):\n",
    "    '''Запускаем игру 1000 раз, чтобы узнать, как быстро игра угадывает число'''\n",
    "    count_ls = []\n",
    "    np.random.seed(1)  # фиксируем RANDOM SEED, чтобы ваш эксперимент был воспроизводим!\n",
    "    random_array = np.random.randint(1,101, size=(1000))\n",
    "    for number in random_array:\n",
    "        count_ls.append(game_core(number))\n",
    "    score = int(np.mean(count_ls))\n",
    "    return(print(f\"Ваш алгоритм угадывает число в среднем за {score} попыт{ending(score)}\"))\n",
    "\n",
    "\n",
    "score_game(predict)"
   ]
  }
 ],
 "metadata": {
  "kernelspec": {
   "display_name": "Python 3",
   "language": "python",
   "name": "python3"
  },
  "language_info": {
   "codemirror_mode": {
    "name": "ipython",
    "version": 3
   },
   "file_extension": ".py",
   "mimetype": "text/x-python",
   "name": "python",
   "nbconvert_exporter": "python",
   "pygments_lexer": "ipython3",
   "version": "3.7.3"
  }
 },
 "nbformat": 4,
 "nbformat_minor": 2
}
